{
 "cells": [
  {
   "cell_type": "raw",
   "id": "fcd145fa-10d4-4597-9250-1c61984fc5bb",
   "metadata": {},
   "source": [
    "# Copyright 2024 Google LLC\n",
    "#\n",
    "# Licensed under the Apache License, Version 2.0 (the \"License\");\n",
    "# you may not use this file except in compliance with the License.\n",
    "# You may obtain a copy of the License at\n",
    "#\n",
    "#     https://www.apache.org/licenses/LICENSE-2.0\n",
    "#\n",
    "# Unless required by applicable law or agreed to in writing, software\n",
    "# distributed under the License is distributed on an \"AS IS\" BASIS,\n",
    "# WITHOUT WARRANTIES OR CONDITIONS OF ANY KIND, either express or implied.\n",
    "# See the License for the specific language governing permissions and\n",
    "# limitations under the License."
   ]
  },
  {
   "cell_type": "raw",
   "id": "201cd5fa-25e0-4bd7-8a27-af1fc85a12e7",
   "metadata": {},
   "source": [
    "This section shows you how to upload Vectors into a new Elasticsearch index and run simple search queries using the official Elasticsearch client.\n",
    "\n",
    "In this example, you use a dataset from a CSV file that contains a list of books in different genres. Elasticsearch will serve as a search engine."
   ]
  },
  {
   "cell_type": "raw",
   "id": "51247bbb-a52f-4003-9596-439f60f3b3c9",
   "metadata": {},
   "source": [
    "Install Elasticsearch python client and fastembed libraries:"
   ]
  },
  {
   "cell_type": "code",
   "execution_count": 28,
   "id": "1c3b796a-3b3a-4322-a276-d72c1dc8540e",
   "metadata": {},
   "outputs": [],
   "source": [
    "! pip install elasticsearch fastembed"
   ]
  },
  {
   "cell_type": "raw",
   "id": "320f0cb6-61c9-42fe-b361-ea3c92c35421",
   "metadata": {},
   "source": [
    "Import required python libraries:"
   ]
  },
  {
   "cell_type": "code",
   "execution_count": 29,
   "id": "bb5ca67b-607d-4b23-926a-6459ea584f45",
   "metadata": {},
   "outputs": [],
   "source": [
    "from elasticsearch import Elasticsearch\n",
    "from elasticsearch.helpers import bulk\n",
    "import os\n",
    "import csv\n",
    "from fastembed import TextEmbedding\n",
    "from typing import List\n",
    "import numpy as np"
   ]
  },
  {
   "cell_type": "raw",
   "id": "15f64563-f932-4a38-bd96-5b9d5cfadfd3",
   "metadata": {},
   "source": [
    "Load and prepare data from a CSV file for inserting it into an Elasticsearch index:"
   ]
  },
  {
   "cell_type": "code",
   "execution_count": 30,
   "id": "013284ff-e4b6-4ad7-b330-17860121c4c1",
   "metadata": {},
   "outputs": [],
   "source": [
    "books = [*csv.DictReader(open('/usr/local/dataset/dataset.csv'))]\n",
    "descriptions = [doc[\"description\"] for doc in books]\n",
    "embedding_model = TextEmbedding(model_name=\"BAAI/bge-small-en\")\n",
    "embeddings: List[np.ndarray] = list(embedding_model.embed(descriptions))"
   ]
  },
  {
   "cell_type": "raw",
   "id": "f6f00b67-901e-4470-ab26-94c3b0e010d8",
   "metadata": {},
   "source": [
    "Establish a connection to the Elasticsearch cluster:"
   ]
  },
  {
   "cell_type": "code",
   "execution_count": 31,
   "id": "75f71220-349b-41f0-89ea-1ba7a1c52771",
   "metadata": {},
   "outputs": [],
   "source": [
    "client = Elasticsearch(['https://elasticsearch-ha-es-http:9200'], verify_certs=True, \n",
    "    ca_certs='/usr/local/cert/ca.crt',\n",
    "    basic_auth=(\"elastic\",\n",
    "    os.getenv(\"PW\"))\n",
    ")"
   ]
  },
  {
   "cell_type": "raw",
   "id": "df7eb305-6f3e-4215-8090-71d044a302aa",
   "metadata": {},
   "source": [
    "Create an Elasticsearch index with defined schema:"
   ]
  },
  {
   "cell_type": "code",
   "execution_count": 32,
   "id": "b08ebd75-0b8c-4805-a40f-634d2d5df3de",
   "metadata": {},
   "outputs": [],
   "source": [
    "index_scheme = {\n",
    "    \"settings\": {\n",
    "        \"number_of_shards\": 3,\n",
    "        \"number_of_replicas\": 1\n",
    "    },\n",
    "    \"mappings\": {\n",
    "        \"dynamic\": \"true\",\n",
    "        \"_source\": {\n",
    "        \"enabled\": \"true\"\n",
    "        },\n",
    "        \"properties\": {\n",
    "        \"title\": {\n",
    "            \"type\": \"text\"\n",
    "        },\n",
    "        \"author\": {\n",
    "            \"type\": \"text\"\n",
    "        },\n",
    "        \"publishDate\": {\n",
    "            \"type\": \"text\"\n",
    "        },\n",
    "        \"description\": {\n",
    "            \"type\": \"text\"\n",
    "        },\n",
    "        \"description_vector\": {\n",
    "            \"type\": \"dense_vector\",\n",
    "            \"dims\": 384\n",
    "        }\n",
    "        }\n",
    "    }\n",
    "}\n",
    "client.indices.create(index=\"books\", body=index_scheme)"
   ]
  },
  {
   "cell_type": "raw",
   "id": "c491a826-0f86-4a25-a0ba-cfad62c79da5",
   "metadata": {},
   "source": [
    "Prepare data for uploading:"
   ]
  },
  {
   "cell_type": "code",
   "execution_count": 33,
   "id": "637e4922-d58c-4eb3-91c2-03252422c662",
   "metadata": {},
   "outputs": [],
   "source": [
    "documents: list[dict[str, any]] = []\n",
    "\n",
    "for i, doc in enumerate(books):\n",
    "    book = doc\n",
    "    book[\"_op_type\"] = \"index\"\n",
    "    book[\"_index\"] = \"books\"\n",
    "    book[\"description_vector\"] = embeddings[i]\n",
    "    documents.append(book)"
   ]
  },
  {
   "cell_type": "raw",
   "id": "d1052335-63d3-4dd5-8e54-6627bb289abf",
   "metadata": {},
   "source": [
    "Upload data:"
   ]
  },
  {
   "cell_type": "code",
   "execution_count": 34,
   "id": "7d1cae5f-ffa3-44ea-8b9e-fd376cdc185c",
   "metadata": {},
   "outputs": [],
   "source": [
    "bulk(client, documents)"
   ]
  },
  {
   "cell_type": "markdown",
   "id": "cbc7fb0d-1b75-4d39-b205-6fc2f7fff7ed",
   "metadata": {},
   "source": [
    "Define a function to query data from Elasticsearch.\n",
    "\n",
    "It prints each result separated by a line of dashes, in the following format :\n",
    "\n",
    "- Title: Title of the book, Author: Author of the book, Score: Elasticsearch relevancy score\n",
    "- Description of the book"
   ]
  },
  {
   "cell_type": "code",
   "execution_count": null,
   "id": "281a9791-8fb8-49f5-b80d-6ca849da4b88",
   "metadata": {},
   "outputs": [],
   "source": [
    "def handle_query(query, limit):\n",
    "    query_vector = list(embedding_model.embed([query]))[0]\n",
    "    script_query = {\n",
    "        \"script_score\": {\n",
    "            \"query\": {\"match_all\": {}},\n",
    "            \"script\": {\n",
    "                \"source\": \"cosineSimilarity(params.query_vector, 'description_vector') + 1.0\",\n",
    "                \"params\": {\"query_vector\": query_vector}\n",
    "            }\n",
    "        }\n",
    "    }\n",
    "    response = client.search(\n",
    "        index=\"books\",\n",
    "        body={\n",
    "            \"size\": limit,\n",
    "            \"query\": script_query,\n",
    "            \"_source\": {\"includes\": [\"description\", \"title\", \"author\", \"body\"]}\n",
    "        }\n",
    "    )   \n",
    "    for hit in response[\"hits\"][\"hits\"]:\n",
    "        print(\"Title: {}, Author: {}, score: {}\".format(hit[\"_source\"][\"title\"], hit[\"_source\"][\"author\"], hit[\"_score\"]))\n",
    "        print(hit[\"_source\"][\"description\"])\n",
    "        print(\"---------\")"
   ]
  },
  {
   "cell_type": "markdown",
   "id": "d6f3c7fe-0452-4b4d-aa81-aa833542f617",
   "metadata": {},
   "source": [
    "Query the Elasticsearch database. It runs a search query about `drama about people and unhappy love` and displays results."
   ]
  },
  {
   "cell_type": "code",
   "execution_count": null,
   "id": "8351514a-a423-440b-8138-68face2b0417",
   "metadata": {},
   "outputs": [],
   "source": [
    "handle_query(\"drama about people and unhappy love\", 2)"
   ]
  }
 ],
 "metadata": {
  "kernelspec": {
   "display_name": "Python 3 (ipykernel)",
   "language": "python",
   "name": "python3"
  },
  "language_info": {
   "codemirror_mode": {
    "name": "ipython",
    "version": 3
   },
   "file_extension": ".py",
   "mimetype": "text/x-python",
   "name": "python",
   "nbconvert_exporter": "python",
   "pygments_lexer": "ipython3",
   "version": "3.11.0rc1"
  }
 },
 "nbformat": 4,
 "nbformat_minor": 5
}
